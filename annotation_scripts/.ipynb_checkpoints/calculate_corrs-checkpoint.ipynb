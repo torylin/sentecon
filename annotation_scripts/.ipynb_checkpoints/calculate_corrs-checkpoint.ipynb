{
 "cells": [
  {
   "cell_type": "code",
   "execution_count": null,
   "id": "728c34c0",
   "metadata": {},
   "outputs": [],
   "source": [
    "import pandas as pd\n",
    "from sklearn.preprocessing import StandardScaler, scale\n",
    "import numpy as np\n",
    "from scipy.stats import ttest_rel\n",
    "import liwc"
   ]
  },
  {
   "cell_type": "code",
   "execution_count": null,
   "id": "55b0f4ce",
   "metadata": {},
   "outputs": [],
   "source": [
    "corr_df1 = pd.read_csv('../data/annotation_study/MELD_trial_corrs_S1_dev.csv')\n",
    "corr_df2 = pd.read_csv('../data/annotation_study/MELD_trial_corrs_S2_dev.csv')"
   ]
  },
  {
   "cell_type": "code",
   "execution_count": null,
   "id": "d69d1fe9",
   "metadata": {},
   "outputs": [],
   "source": [
    "corr_df = pd.concat([corr_df1, corr_df2])"
   ]
  },
  {
   "cell_type": "code",
   "execution_count": null,
   "id": "65530d66",
   "metadata": {},
   "outputs": [],
   "source": [
    "corr_df"
   ]
  },
  {
   "cell_type": "code",
   "execution_count": null,
   "id": "81ade3c0",
   "metadata": {},
   "outputs": [],
   "source": [
    "np.mean(corr_df, axis=0)"
   ]
  },
  {
   "cell_type": "code",
   "execution_count": null,
   "id": "f26a0eb1",
   "metadata": {},
   "outputs": [],
   "source": [
    "# Paired two-sided t-test\n",
    "ttest_rel(corr_df['sentence_liwc_corr'].values, corr_df['liwc_corr'].values)"
   ]
  },
  {
   "cell_type": "code",
   "execution_count": null,
   "id": "6c94680d",
   "metadata": {},
   "outputs": [],
   "source": [
    "# Paired one-sided t-test\n",
    "ttest_rel(corr_df['sentence_liwc_corr'].values, corr_df['liwc_corr'].values,\n",
    "         alternative='greater')"
   ]
  }
 ],
 "metadata": {
  "kernelspec": {
   "display_name": "Python 3",
   "language": "python",
   "name": "python3"
  },
  "language_info": {
   "codemirror_mode": {
    "name": "ipython",
    "version": 3
   },
   "file_extension": ".py",
   "mimetype": "text/x-python",
   "name": "python",
   "nbconvert_exporter": "python",
   "pygments_lexer": "ipython3",
   "version": "3.9.12"
  }
 },
 "nbformat": 4,
 "nbformat_minor": 5
}
